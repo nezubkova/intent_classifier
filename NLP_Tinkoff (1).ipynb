{
  "nbformat": 4,
  "nbformat_minor": 0,
  "metadata": {
    "accelerator": "GPU",
    "colab": {
      "name": "NLP_Tinkoff.ipynb",
      "provenance": [],
      "collapsed_sections": [],
      "toc_visible": true
    },
    "kernelspec": {
      "display_name": "Python 3",
      "name": "python3"
    },
    "language_info": {
      "name": "python"
    }
  },
  "cells": [
    {
      "cell_type": "markdown",
      "metadata": {
        "id": "DvX052q5Ds7h"
      },
      "source": [
        "# **Классификатор интентов**"
      ]
    },
    {
      "cell_type": "markdown",
      "metadata": {
        "id": "5GjPkUeBW-cT"
      },
      "source": [
        "Импортируем данные."
      ]
    },
    {
      "cell_type": "code",
      "metadata": {
        "colab": {
          "base_uri": "https://localhost:8080/"
        },
        "id": "vTdM0_PHW6V4",
        "outputId": "049da489-d5e8-4921-b790-456b561d6504"
      },
      "source": [
        "!unzip /content/task-specific-datasets-master.zip"
      ],
      "execution_count": 1,
      "outputs": [
        {
          "output_type": "stream",
          "text": [
            "Archive:  /content/task-specific-datasets-master.zip\n",
            "f1fa11776b7a016eef3dabd417017e11c5144986\n",
            "   creating: task-specific-datasets-master/\n",
            "  inflating: task-specific-datasets-master/LICENSE  \n",
            "  inflating: task-specific-datasets-master/README.md  \n",
            "   creating: task-specific-datasets-master/banking_data/\n",
            "  inflating: task-specific-datasets-master/banking_data/categories.json  \n",
            "  inflating: task-specific-datasets-master/banking_data/test.csv  \n",
            "  inflating: task-specific-datasets-master/banking_data/train.csv  \n",
            "  inflating: task-specific-datasets-master/polyai-logo.png  \n",
            "   creating: task-specific-datasets-master/span_extraction/\n",
            "   creating: task-specific-datasets-master/span_extraction/dstc8/\n",
            "   creating: task-specific-datasets-master/span_extraction/dstc8/Buses_1/\n",
            "  inflating: task-specific-datasets-master/span_extraction/dstc8/Buses_1/test.json  \n",
            "  inflating: task-specific-datasets-master/span_extraction/dstc8/Buses_1/train_0.json  \n",
            "  inflating: task-specific-datasets-master/span_extraction/dstc8/Buses_1/train_1.json  \n",
            "  inflating: task-specific-datasets-master/span_extraction/dstc8/Buses_1/train_2.json  \n",
            "  inflating: task-specific-datasets-master/span_extraction/dstc8/Buses_1/train_3.json  \n",
            "  inflating: task-specific-datasets-master/span_extraction/dstc8/Buses_1/train_4.json  \n",
            "  inflating: task-specific-datasets-master/span_extraction/dstc8/Buses_1/train_5.json  \n",
            "   creating: task-specific-datasets-master/span_extraction/dstc8/Events_1/\n",
            "  inflating: task-specific-datasets-master/span_extraction/dstc8/Events_1/test.json  \n",
            "  inflating: task-specific-datasets-master/span_extraction/dstc8/Events_1/train_0.json  \n",
            "  inflating: task-specific-datasets-master/span_extraction/dstc8/Events_1/train_1.json  \n",
            "  inflating: task-specific-datasets-master/span_extraction/dstc8/Events_1/train_2.json  \n",
            "  inflating: task-specific-datasets-master/span_extraction/dstc8/Events_1/train_3.json  \n",
            "  inflating: task-specific-datasets-master/span_extraction/dstc8/Events_1/train_4.json  \n",
            "  inflating: task-specific-datasets-master/span_extraction/dstc8/Events_1/train_5.json  \n",
            "   creating: task-specific-datasets-master/span_extraction/dstc8/Homes_1/\n",
            "  inflating: task-specific-datasets-master/span_extraction/dstc8/Homes_1/test.json  \n",
            "  inflating: task-specific-datasets-master/span_extraction/dstc8/Homes_1/train_0.json  \n",
            "  inflating: task-specific-datasets-master/span_extraction/dstc8/Homes_1/train_1.json  \n",
            "  inflating: task-specific-datasets-master/span_extraction/dstc8/Homes_1/train_2.json  \n",
            "  inflating: task-specific-datasets-master/span_extraction/dstc8/Homes_1/train_3.json  \n",
            "  inflating: task-specific-datasets-master/span_extraction/dstc8/Homes_1/train_4.json  \n",
            "  inflating: task-specific-datasets-master/span_extraction/dstc8/Homes_1/train_5.json  \n",
            "   creating: task-specific-datasets-master/span_extraction/dstc8/RentalCars_1/\n",
            "  inflating: task-specific-datasets-master/span_extraction/dstc8/RentalCars_1/test.json  \n",
            "  inflating: task-specific-datasets-master/span_extraction/dstc8/RentalCars_1/train_0.json  \n",
            "  inflating: task-specific-datasets-master/span_extraction/dstc8/RentalCars_1/train_1.json  \n",
            "  inflating: task-specific-datasets-master/span_extraction/dstc8/RentalCars_1/train_2.json  \n",
            "  inflating: task-specific-datasets-master/span_extraction/dstc8/RentalCars_1/train_3.json  \n",
            "  inflating: task-specific-datasets-master/span_extraction/dstc8/RentalCars_1/train_4.json  \n",
            "  inflating: task-specific-datasets-master/span_extraction/dstc8/RentalCars_1/train_5.json  \n",
            "  inflating: task-specific-datasets-master/span_extraction/dstc8/stats.csv  \n",
            "   creating: task-specific-datasets-master/span_extraction/restaurant8k/\n",
            "  inflating: task-specific-datasets-master/span_extraction/restaurant8k/test.json  \n",
            "  inflating: task-specific-datasets-master/span_extraction/restaurant8k/train_0.json  \n",
            "  inflating: task-specific-datasets-master/span_extraction/restaurant8k/train_1.json  \n",
            "  inflating: task-specific-datasets-master/span_extraction/restaurant8k/train_2.json  \n",
            "  inflating: task-specific-datasets-master/span_extraction/restaurant8k/train_3.json  \n",
            "  inflating: task-specific-datasets-master/span_extraction/restaurant8k/train_4.json  \n",
            "  inflating: task-specific-datasets-master/span_extraction/restaurant8k/train_5.json  \n",
            "  inflating: task-specific-datasets-master/span_extraction/restaurant8k/train_6.json  \n",
            "  inflating: task-specific-datasets-master/span_extraction/restaurant8k/train_7.json  \n",
            "  inflating: task-specific-datasets-master/span_extraction/restaurant8k/train_8.json  \n"
          ],
          "name": "stdout"
        }
      ]
    },
    {
      "cell_type": "code",
      "metadata": {
        "id": "7L64Ps1DXAnw"
      },
      "source": [
        "import pandas as pd\n",
        "import json"
      ],
      "execution_count": 2,
      "outputs": []
    },
    {
      "cell_type": "code",
      "metadata": {
        "id": "_p3drl9BXTCr"
      },
      "source": [
        "train = pd.read_csv('/content/task-specific-datasets-master/banking_data/train.csv')\n",
        "test = pd.read_csv('/content/task-specific-datasets-master/banking_data/test.csv')"
      ],
      "execution_count": 3,
      "outputs": []
    },
    {
      "cell_type": "code",
      "metadata": {
        "id": "odlyKIbMXj-x"
      },
      "source": [
        "with open(\"/content/task-specific-datasets-master/banking_data/categories.json\", \"r\") as read_file:\n",
        "    cats = json.load(read_file)"
      ],
      "execution_count": 4,
      "outputs": []
    },
    {
      "cell_type": "code",
      "metadata": {
        "colab": {
          "base_uri": "https://localhost:8080/",
          "height": 195
        },
        "id": "QcZEZ1g6XidT",
        "outputId": "8237c7d4-e148-47fd-9d33-f55e9eaf491c"
      },
      "source": [
        "train.head()"
      ],
      "execution_count": null,
      "outputs": [
        {
          "output_type": "execute_result",
          "data": {
            "text/html": [
              "<div>\n",
              "<style scoped>\n",
              "    .dataframe tbody tr th:only-of-type {\n",
              "        vertical-align: middle;\n",
              "    }\n",
              "\n",
              "    .dataframe tbody tr th {\n",
              "        vertical-align: top;\n",
              "    }\n",
              "\n",
              "    .dataframe thead th {\n",
              "        text-align: right;\n",
              "    }\n",
              "</style>\n",
              "<table border=\"1\" class=\"dataframe\">\n",
              "  <thead>\n",
              "    <tr style=\"text-align: right;\">\n",
              "      <th></th>\n",
              "      <th>text</th>\n",
              "      <th>category</th>\n",
              "    </tr>\n",
              "  </thead>\n",
              "  <tbody>\n",
              "    <tr>\n",
              "      <th>0</th>\n",
              "      <td>I am still waiting on my card?</td>\n",
              "      <td>card_arrival</td>\n",
              "    </tr>\n",
              "    <tr>\n",
              "      <th>1</th>\n",
              "      <td>What can I do if my card still hasn't arrived ...</td>\n",
              "      <td>card_arrival</td>\n",
              "    </tr>\n",
              "    <tr>\n",
              "      <th>2</th>\n",
              "      <td>I have been waiting over a week. Is the card s...</td>\n",
              "      <td>card_arrival</td>\n",
              "    </tr>\n",
              "    <tr>\n",
              "      <th>3</th>\n",
              "      <td>Can I track my card while it is in the process...</td>\n",
              "      <td>card_arrival</td>\n",
              "    </tr>\n",
              "    <tr>\n",
              "      <th>4</th>\n",
              "      <td>How do I know if I will get my card, or if it ...</td>\n",
              "      <td>card_arrival</td>\n",
              "    </tr>\n",
              "  </tbody>\n",
              "</table>\n",
              "</div>"
            ],
            "text/plain": [
              "                                                text      category\n",
              "0                     I am still waiting on my card?  card_arrival\n",
              "1  What can I do if my card still hasn't arrived ...  card_arrival\n",
              "2  I have been waiting over a week. Is the card s...  card_arrival\n",
              "3  Can I track my card while it is in the process...  card_arrival\n",
              "4  How do I know if I will get my card, or if it ...  card_arrival"
            ]
          },
          "metadata": {
            "tags": []
          },
          "execution_count": 4
        }
      ]
    },
    {
      "cell_type": "markdown",
      "metadata": {
        "id": "IiRrijSn3VIA"
      },
      "source": [
        "Присвоим категориям номера."
      ]
    },
    {
      "cell_type": "code",
      "metadata": {
        "colab": {
          "base_uri": "https://localhost:8080/",
          "height": 490
        },
        "id": "6kanDJEbXl7B",
        "outputId": "f25be2f8-2117-4b1b-fe23-801cc7759e72"
      },
      "source": [
        "train['label'] = 0\n",
        "for i in range(len(train)):\n",
        "  train['label'][i] = cats.index(train.category[i])\n",
        "train"
      ],
      "execution_count": 6,
      "outputs": [
        {
          "output_type": "stream",
          "text": [
            "/usr/local/lib/python3.7/dist-packages/ipykernel_launcher.py:2: SettingWithCopyWarning: \n",
            "A value is trying to be set on a copy of a slice from a DataFrame\n",
            "\n",
            "See the caveats in the documentation: https://pandas.pydata.org/pandas-docs/stable/user_guide/indexing.html#returning-a-view-versus-a-copy\n",
            "  \n"
          ],
          "name": "stderr"
        },
        {
          "output_type": "execute_result",
          "data": {
            "text/html": [
              "<div>\n",
              "<style scoped>\n",
              "    .dataframe tbody tr th:only-of-type {\n",
              "        vertical-align: middle;\n",
              "    }\n",
              "\n",
              "    .dataframe tbody tr th {\n",
              "        vertical-align: top;\n",
              "    }\n",
              "\n",
              "    .dataframe thead th {\n",
              "        text-align: right;\n",
              "    }\n",
              "</style>\n",
              "<table border=\"1\" class=\"dataframe\">\n",
              "  <thead>\n",
              "    <tr style=\"text-align: right;\">\n",
              "      <th></th>\n",
              "      <th>text</th>\n",
              "      <th>category</th>\n",
              "      <th>label</th>\n",
              "    </tr>\n",
              "  </thead>\n",
              "  <tbody>\n",
              "    <tr>\n",
              "      <th>0</th>\n",
              "      <td>I am still waiting on my card?</td>\n",
              "      <td>card_arrival</td>\n",
              "      <td>0</td>\n",
              "    </tr>\n",
              "    <tr>\n",
              "      <th>1</th>\n",
              "      <td>What can I do if my card still hasn't arrived ...</td>\n",
              "      <td>card_arrival</td>\n",
              "      <td>0</td>\n",
              "    </tr>\n",
              "    <tr>\n",
              "      <th>2</th>\n",
              "      <td>I have been waiting over a week. Is the card s...</td>\n",
              "      <td>card_arrival</td>\n",
              "      <td>0</td>\n",
              "    </tr>\n",
              "    <tr>\n",
              "      <th>3</th>\n",
              "      <td>Can I track my card while it is in the process...</td>\n",
              "      <td>card_arrival</td>\n",
              "      <td>0</td>\n",
              "    </tr>\n",
              "    <tr>\n",
              "      <th>4</th>\n",
              "      <td>How do I know if I will get my card, or if it ...</td>\n",
              "      <td>card_arrival</td>\n",
              "      <td>0</td>\n",
              "    </tr>\n",
              "    <tr>\n",
              "      <th>...</th>\n",
              "      <td>...</td>\n",
              "      <td>...</td>\n",
              "      <td>...</td>\n",
              "    </tr>\n",
              "    <tr>\n",
              "      <th>9998</th>\n",
              "      <td>You provide support in what countries?</td>\n",
              "      <td>country_support</td>\n",
              "      <td>76</td>\n",
              "    </tr>\n",
              "    <tr>\n",
              "      <th>9999</th>\n",
              "      <td>What countries are you supporting?</td>\n",
              "      <td>country_support</td>\n",
              "      <td>76</td>\n",
              "    </tr>\n",
              "    <tr>\n",
              "      <th>10000</th>\n",
              "      <td>What countries are getting support?</td>\n",
              "      <td>country_support</td>\n",
              "      <td>76</td>\n",
              "    </tr>\n",
              "    <tr>\n",
              "      <th>10001</th>\n",
              "      <td>Are cards available in the EU?</td>\n",
              "      <td>country_support</td>\n",
              "      <td>76</td>\n",
              "    </tr>\n",
              "    <tr>\n",
              "      <th>10002</th>\n",
              "      <td>Which countries are represented?</td>\n",
              "      <td>country_support</td>\n",
              "      <td>76</td>\n",
              "    </tr>\n",
              "  </tbody>\n",
              "</table>\n",
              "<p>10003 rows × 3 columns</p>\n",
              "</div>"
            ],
            "text/plain": [
              "                                                    text  ... label\n",
              "0                         I am still waiting on my card?  ...     0\n",
              "1      What can I do if my card still hasn't arrived ...  ...     0\n",
              "2      I have been waiting over a week. Is the card s...  ...     0\n",
              "3      Can I track my card while it is in the process...  ...     0\n",
              "4      How do I know if I will get my card, or if it ...  ...     0\n",
              "...                                                  ...  ...   ...\n",
              "9998              You provide support in what countries?  ...    76\n",
              "9999                  What countries are you supporting?  ...    76\n",
              "10000                What countries are getting support?  ...    76\n",
              "10001                     Are cards available in the EU?  ...    76\n",
              "10002                   Which countries are represented?  ...    76\n",
              "\n",
              "[10003 rows x 3 columns]"
            ]
          },
          "metadata": {
            "tags": []
          },
          "execution_count": 6
        }
      ]
    },
    {
      "cell_type": "code",
      "metadata": {
        "colab": {
          "base_uri": "https://localhost:8080/",
          "height": 490
        },
        "id": "MzUATYWqacIt",
        "outputId": "557e16d0-6546-4764-eccc-1297c326fe73"
      },
      "source": [
        "test['label'] = 0\n",
        "for i in range(len(test)):\n",
        "  test['label'][i] = cats.index(test.category[i])\n",
        "test"
      ],
      "execution_count": 7,
      "outputs": [
        {
          "output_type": "stream",
          "text": [
            "/usr/local/lib/python3.7/dist-packages/ipykernel_launcher.py:3: SettingWithCopyWarning: \n",
            "A value is trying to be set on a copy of a slice from a DataFrame\n",
            "\n",
            "See the caveats in the documentation: https://pandas.pydata.org/pandas-docs/stable/user_guide/indexing.html#returning-a-view-versus-a-copy\n",
            "  This is separate from the ipykernel package so we can avoid doing imports until\n"
          ],
          "name": "stderr"
        },
        {
          "output_type": "execute_result",
          "data": {
            "text/html": [
              "<div>\n",
              "<style scoped>\n",
              "    .dataframe tbody tr th:only-of-type {\n",
              "        vertical-align: middle;\n",
              "    }\n",
              "\n",
              "    .dataframe tbody tr th {\n",
              "        vertical-align: top;\n",
              "    }\n",
              "\n",
              "    .dataframe thead th {\n",
              "        text-align: right;\n",
              "    }\n",
              "</style>\n",
              "<table border=\"1\" class=\"dataframe\">\n",
              "  <thead>\n",
              "    <tr style=\"text-align: right;\">\n",
              "      <th></th>\n",
              "      <th>text</th>\n",
              "      <th>category</th>\n",
              "      <th>label</th>\n",
              "    </tr>\n",
              "  </thead>\n",
              "  <tbody>\n",
              "    <tr>\n",
              "      <th>0</th>\n",
              "      <td>How do I locate my card?</td>\n",
              "      <td>card_arrival</td>\n",
              "      <td>0</td>\n",
              "    </tr>\n",
              "    <tr>\n",
              "      <th>1</th>\n",
              "      <td>I still have not received my new card, I order...</td>\n",
              "      <td>card_arrival</td>\n",
              "      <td>0</td>\n",
              "    </tr>\n",
              "    <tr>\n",
              "      <th>2</th>\n",
              "      <td>I ordered a card but it has not arrived. Help ...</td>\n",
              "      <td>card_arrival</td>\n",
              "      <td>0</td>\n",
              "    </tr>\n",
              "    <tr>\n",
              "      <th>3</th>\n",
              "      <td>Is there a way to know when my card will arrive?</td>\n",
              "      <td>card_arrival</td>\n",
              "      <td>0</td>\n",
              "    </tr>\n",
              "    <tr>\n",
              "      <th>4</th>\n",
              "      <td>My card has not arrived yet.</td>\n",
              "      <td>card_arrival</td>\n",
              "      <td>0</td>\n",
              "    </tr>\n",
              "    <tr>\n",
              "      <th>...</th>\n",
              "      <td>...</td>\n",
              "      <td>...</td>\n",
              "      <td>...</td>\n",
              "    </tr>\n",
              "    <tr>\n",
              "      <th>3075</th>\n",
              "      <td>If i'm not in the UK, can I still get a card?</td>\n",
              "      <td>country_support</td>\n",
              "      <td>76</td>\n",
              "    </tr>\n",
              "    <tr>\n",
              "      <th>3076</th>\n",
              "      <td>How many countries do you support?</td>\n",
              "      <td>country_support</td>\n",
              "      <td>76</td>\n",
              "    </tr>\n",
              "    <tr>\n",
              "      <th>3077</th>\n",
              "      <td>What countries do you do business in?</td>\n",
              "      <td>country_support</td>\n",
              "      <td>76</td>\n",
              "    </tr>\n",
              "    <tr>\n",
              "      <th>3078</th>\n",
              "      <td>What are the countries you operate in.</td>\n",
              "      <td>country_support</td>\n",
              "      <td>76</td>\n",
              "    </tr>\n",
              "    <tr>\n",
              "      <th>3079</th>\n",
              "      <td>Can the card be mailed and used in Europe?</td>\n",
              "      <td>country_support</td>\n",
              "      <td>76</td>\n",
              "    </tr>\n",
              "  </tbody>\n",
              "</table>\n",
              "<p>3080 rows × 3 columns</p>\n",
              "</div>"
            ],
            "text/plain": [
              "                                                   text         category  label\n",
              "0                              How do I locate my card?     card_arrival      0\n",
              "1     I still have not received my new card, I order...     card_arrival      0\n",
              "2     I ordered a card but it has not arrived. Help ...     card_arrival      0\n",
              "3      Is there a way to know when my card will arrive?     card_arrival      0\n",
              "4                          My card has not arrived yet.     card_arrival      0\n",
              "...                                                 ...              ...    ...\n",
              "3075      If i'm not in the UK, can I still get a card?  country_support     76\n",
              "3076                 How many countries do you support?  country_support     76\n",
              "3077              What countries do you do business in?  country_support     76\n",
              "3078             What are the countries you operate in.  country_support     76\n",
              "3079         Can the card be mailed and used in Europe?  country_support     76\n",
              "\n",
              "[3080 rows x 3 columns]"
            ]
          },
          "metadata": {
            "tags": []
          },
          "execution_count": 7
        }
      ]
    },
    {
      "cell_type": "code",
      "metadata": {
        "colab": {
          "base_uri": "https://localhost:8080/"
        },
        "id": "xLMbnTiuG7fn",
        "outputId": "902fd58b-9ad8-40b0-ea02-ada16a4e0211"
      },
      "source": [
        "train.groupby('category').count()['label'].values"
      ],
      "execution_count": 8,
      "outputs": [
        {
          "output_type": "execute_result",
          "data": {
            "text/plain": [
              "array([162, 159, 110, 126,  87, 127, 171, 181, 156, 157, 129,  59, 153,\n",
              "       112, 139, 112, 187, 168, 167,  61, 177, 160, 122,  86,  35, 129,\n",
              "       153, 173, 133, 182, 121, 121, 121, 112, 118, 166, 137, 126,  97,\n",
              "       106, 129,  98,  82, 121, 120, 105, 159, 143, 149, 148, 115,  95,\n",
              "       169, 161, 129, 108, 111, 114, 114, 145,  97, 146, 103, 175, 172,\n",
              "       113, 171, 128, 102, 104, 113, 126,  41, 135, 121, 180, 163])"
            ]
          },
          "metadata": {
            "tags": []
          },
          "execution_count": 8
        }
      ]
    },
    {
      "cell_type": "markdown",
      "metadata": {
        "id": "8JYSCCaXQOWi"
      },
      "source": [
        "Значительного дисбаланса классов не наблюдается, однако все равно есть очень малонаполненные категории. "
      ]
    },
    {
      "cell_type": "markdown",
      "metadata": {
        "id": "R27orvdS4tX3"
      },
      "source": [
        "## **Логистическая регрессия на векторах Tf-idf**"
      ]
    },
    {
      "cell_type": "markdown",
      "metadata": {
        "id": "KzXfsYV33aDp"
      },
      "source": [
        "Сделаем небольшой препроцессинг текста и обучим логистическую регрессию на векторах tf-idf."
      ]
    },
    {
      "cell_type": "code",
      "metadata": {
        "id": "2Eey6e68YNHY"
      },
      "source": [
        "import sklearn\n",
        "from sklearn.feature_extraction.text import TfidfVectorizer\n",
        "from sklearn.linear_model import LogisticRegression"
      ],
      "execution_count": 9,
      "outputs": []
    },
    {
      "cell_type": "code",
      "metadata": {
        "id": "4KsTDiCZYmN8"
      },
      "source": [
        "x_train, y_train = train['text'], train['label']\n",
        "x_test, y_test = test['text'], test['label']"
      ],
      "execution_count": 10,
      "outputs": []
    },
    {
      "cell_type": "code",
      "metadata": {
        "colab": {
          "base_uri": "https://localhost:8080/"
        },
        "id": "A6CqHVegan3A",
        "outputId": "b19ce5e3-e603-4e40-9bb9-c175d35a38af"
      },
      "source": [
        "import string\n",
        "\n",
        "import nltk\n",
        "nltk.download('punkt')\n",
        "nltk.download('stopwords')\n",
        "\n",
        "from nltk.tokenize import word_tokenize\n",
        "from nltk.corpus import stopwords\n",
        "\n",
        "noise = list(string.punctuation)"
      ],
      "execution_count": 11,
      "outputs": [
        {
          "output_type": "stream",
          "text": [
            "[nltk_data] Downloading package punkt to /root/nltk_data...\n",
            "[nltk_data]   Unzipping tokenizers/punkt.zip.\n",
            "[nltk_data] Downloading package stopwords to /root/nltk_data...\n",
            "[nltk_data]   Unzipping corpora/stopwords.zip.\n"
          ],
          "name": "stdout"
        }
      ]
    },
    {
      "cell_type": "code",
      "metadata": {
        "colab": {
          "base_uri": "https://localhost:8080/"
        },
        "id": "lSNUo67oeEDW",
        "outputId": "730fa396-1fcc-4ede-d31f-558ec244126d"
      },
      "source": [
        "nltk.download('wordnet')\n",
        "from nltk.corpus import wordnet\n",
        "from nltk.stem import WordNetLemmatizer\n",
        "  \n",
        "lemmatizer = WordNetLemmatizer()"
      ],
      "execution_count": 12,
      "outputs": [
        {
          "output_type": "stream",
          "text": [
            "[nltk_data] Downloading package wordnet to /root/nltk_data...\n",
            "[nltk_data]   Unzipping corpora/wordnet.zip.\n"
          ],
          "name": "stdout"
        }
      ]
    },
    {
      "cell_type": "code",
      "metadata": {
        "id": "dsj72VEza_QL"
      },
      "source": [
        "from sklearn.metrics import f1_score"
      ],
      "execution_count": 13,
      "outputs": []
    },
    {
      "cell_type": "code",
      "metadata": {
        "id": "GjLC58Ofb-nX"
      },
      "source": [
        "def process_text(text):\n",
        "    return ' '.join([lemmatizer.lemmatize(word) for word in word_tokenize(text.lower()) if word not in noise])"
      ],
      "execution_count": 14,
      "outputs": []
    },
    {
      "cell_type": "code",
      "metadata": {
        "colab": {
          "base_uri": "https://localhost:8080/"
        },
        "id": "Iw3bIR7qIKsD",
        "outputId": "28dba729-4d02-40a2-eb2d-e58bc0529da9"
      },
      "source": [
        "x_train.apply(process_text)"
      ],
      "execution_count": 153,
      "outputs": [
        {
          "output_type": "execute_result",
          "data": {
            "text/plain": [
              "0                              am still waiting on my card\n",
              "1             if my card still ha n't arrived after 2 week\n",
              "2        have been waiting over a week is the card stil...\n",
              "3        track my card while it is in the process of de...\n",
              "4            how know if will get my card or if it is lost\n",
              "                               ...                        \n",
              "9998                        you provide support in country\n",
              "9999                            country are you supporting\n",
              "10000                          country are getting support\n",
              "10001                         are card available in the eu\n",
              "10002                        which country are represented\n",
              "Name: text, Length: 10003, dtype: object"
            ]
          },
          "metadata": {
            "tags": []
          },
          "execution_count": 153
        }
      ]
    },
    {
      "cell_type": "code",
      "metadata": {
        "id": "K3eC82VtaK9C"
      },
      "source": [
        "tfidf_vec = TfidfVectorizer(max_features=5000)\n",
        "tr_vect = tfidf_vec.fit_transform(x_train.apply(process_text))\n",
        "ts_vect = tfidf_vec.transform(x_test.apply(process_text))"
      ],
      "execution_count": 15,
      "outputs": []
    },
    {
      "cell_type": "code",
      "metadata": {
        "colab": {
          "base_uri": "https://localhost:8080/"
        },
        "id": "38MXuogCYeM5",
        "outputId": "43108bdd-4ea3-4963-f233-26749737264e"
      },
      "source": [
        "model = LogisticRegression(class_weight='balanced')\n",
        "model.fit(tr_vect, y_train)"
      ],
      "execution_count": 16,
      "outputs": [
        {
          "output_type": "execute_result",
          "data": {
            "text/plain": [
              "LogisticRegression(C=1.0, class_weight='balanced', dual=False,\n",
              "                   fit_intercept=True, intercept_scaling=1, l1_ratio=None,\n",
              "                   max_iter=100, multi_class='auto', n_jobs=None, penalty='l2',\n",
              "                   random_state=None, solver='lbfgs', tol=0.0001, verbose=0,\n",
              "                   warm_start=False)"
            ]
          },
          "metadata": {
            "tags": []
          },
          "execution_count": 16
        }
      ]
    },
    {
      "cell_type": "code",
      "metadata": {
        "id": "DHd7w8hka4td"
      },
      "source": [
        "preds = model.predict(ts_vect)"
      ],
      "execution_count": 17,
      "outputs": []
    },
    {
      "cell_type": "code",
      "metadata": {
        "colab": {
          "base_uri": "https://localhost:8080/"
        },
        "id": "fX5HsX6fbJJM",
        "outputId": "499fd8bb-931b-417d-9a1e-fea707a1bb38"
      },
      "source": [
        "f1_score(y_test, preds, average='macro')"
      ],
      "execution_count": 18,
      "outputs": [
        {
          "output_type": "execute_result",
          "data": {
            "text/plain": [
              "0.8849238817446518"
            ]
          },
          "metadata": {
            "tags": []
          },
          "execution_count": 18
        }
      ]
    },
    {
      "cell_type": "markdown",
      "metadata": {
        "id": "e9AL0zmr3o5c"
      },
      "source": [
        "При подборе гиперпараметров лучшее качество, которое удалось достигнуть: **0.885**. Удаление стоп-слов при препроцессинге снизило качество, поэтому мы решили оставить только очистку от знаков препинания и лемматизацию. Также пробовалась векторизация с помощью модели word2vec, но она показала более плохое качество."
      ]
    },
    {
      "cell_type": "markdown",
      "metadata": {
        "id": "V1aMHMVIJQJX"
      },
      "source": [
        "Теперь попробуем провести стемминг текстов, а не лемматизировать."
      ]
    },
    {
      "cell_type": "code",
      "metadata": {
        "id": "ANS2dpIGIXF6"
      },
      "source": [
        "from nltk.stem.snowball import SnowballStemmer"
      ],
      "execution_count": 48,
      "outputs": []
    },
    {
      "cell_type": "code",
      "metadata": {
        "id": "qqMv53OBIYgR"
      },
      "source": [
        "st = SnowballStemmer('english')\n",
        "def stem_text(text):\n",
        "    return ' '.join([st.stem(word) for word in word_tokenize(text.lower()) if word not in noise])"
      ],
      "execution_count": 60,
      "outputs": []
    },
    {
      "cell_type": "code",
      "metadata": {
        "id": "-i2IRGl8Iwgq"
      },
      "source": [
        "tfidf_vec2 = TfidfVectorizer(max_features=1500)\n",
        "tr_st = tfidf_vec2.fit_transform(x_train.apply(stem_text))\n",
        "ts_st = tfidf_vec2.transform(x_test.apply(stem_text))\n",
        "model = LogisticRegression(class_weight='balanced')\n",
        "model.fit(tr_st, y_train)\n",
        "prs = model.predict(ts_st)"
      ],
      "execution_count": 182,
      "outputs": []
    },
    {
      "cell_type": "code",
      "metadata": {
        "colab": {
          "base_uri": "https://localhost:8080/"
        },
        "id": "6bUjYziml7x3",
        "outputId": "0b67f7c3-c744-49a4-c426-68d45020a96f"
      },
      "source": [
        "x_test.apply(stem_text)"
      ],
      "execution_count": 194,
      "outputs": [
        {
          "output_type": "execute_result",
          "data": {
            "text/plain": [
              "0                                  how do i locat my card\n",
              "1       i still have not receiv my new card i order ov...\n",
              "2          i order a card but it has not arriv help pleas\n",
              "3          is there a way to know when my card will arriv\n",
              "4                               my card has not arriv yet\n",
              "                              ...                        \n",
              "3075         if i 'm not in the uk can i still get a card\n",
              "3076                      how mani countri do you support\n",
              "3077                       what countri do you do busi in\n",
              "3078                     what are the countri you oper in\n",
              "3079                can the card be mail and use in europ\n",
              "Name: text, Length: 3080, dtype: object"
            ]
          },
          "metadata": {
            "tags": []
          },
          "execution_count": 194
        }
      ]
    },
    {
      "cell_type": "code",
      "metadata": {
        "colab": {
          "base_uri": "https://localhost:8080/"
        },
        "id": "O1ECBR6uJLeO",
        "outputId": "7c19599c-699a-4863-f783-f885e36b0c1c"
      },
      "source": [
        "f1_score(y_test, prs, average='macro')"
      ],
      "execution_count": 109,
      "outputs": [
        {
          "output_type": "execute_result",
          "data": {
            "text/plain": [
              "0.8905673434287157"
            ]
          },
          "metadata": {
            "tags": []
          },
          "execution_count": 109
        }
      ]
    },
    {
      "cell_type": "markdown",
      "metadata": {
        "id": "sXs1FR4AUdZc"
      },
      "source": [
        "Хоть качество выросло и незначительно, все же стемминг улучшил модель."
      ]
    },
    {
      "cell_type": "markdown",
      "metadata": {
        "id": "xXSLQm75TxIb"
      },
      "source": [
        "Создадим график для возможной визуализации результатов."
      ]
    },
    {
      "cell_type": "code",
      "metadata": {
        "id": "bvQEiY0ORNdq"
      },
      "source": [
        "import matplotlib.pyplot as plt\n",
        "\n",
        "def plot_classification_report(cr, title='Отчет по классификации', with_avg_total=False, cmap=plt.cm.Blues):\n",
        "\n",
        "    lines = cr.split('\\n')\n",
        "\n",
        "    classes = []\n",
        "    plotMat = []\n",
        "\n",
        "    for line in lines[2 : 10]: # для простоты восприятия взяла 8 категорий\n",
        "\n",
        "        t = line.split()\n",
        "        classes.append(t[0])\n",
        "        v = [float(x) for x in t[1: len(t) - 1]]\n",
        "        print(v)\n",
        "        plotMat.append(v)\n",
        "\n",
        "    if with_avg_total:\n",
        "        aveTotal = lines[len(lines) - 1].split()\n",
        "        classes.append('avg/total')\n",
        "        vAveTotal = [float(x) for x in t[1:len(aveTotal) - 1]]\n",
        "        plotMat.append(vAveTotal)\n",
        "\n",
        "\n",
        "    plt.imshow(plotMat, interpolation='nearest', cmap=cmap)\n",
        "    plt.title(title)\n",
        "    plt.colorbar()\n",
        "    x_tick_marks = np.arange(3)\n",
        "    y_tick_marks = np.arange(len(classes))\n",
        "    plt.xticks(x_tick_marks, ['precision', 'recall', 'f1-score'], rotation=45)\n",
        "    plt.yticks(y_tick_marks, classes)\n",
        "    plt.tight_layout()\n",
        "    plt.ylabel('Классы')\n",
        "    plt.xlabel('Метрики')"
      ],
      "execution_count": 215,
      "outputs": []
    },
    {
      "cell_type": "code",
      "metadata": {
        "colab": {
          "base_uri": "https://localhost:8080/",
          "height": 452
        },
        "id": "307JnSrRRMHV",
        "outputId": "25f156cd-ff36-4f6a-b123-2858cab9a590"
      },
      "source": [
        "from sklearn.metrics import classification_report\n",
        "classificationReport = classification_report(y_test, prs, target_names=cats)\n",
        "\n",
        "plot_classification_report(classificationReport)"
      ],
      "execution_count": 216,
      "outputs": [
        {
          "output_type": "stream",
          "text": [
            "[0.86, 0.8, 0.83]\n",
            "[0.95, 1.0, 0.98]\n",
            "[0.85, 0.97, 0.91]\n",
            "[0.94, 0.85, 0.89]\n",
            "[0.76, 0.85, 0.8]\n",
            "[0.97, 0.88, 0.92]\n",
            "[0.97, 0.75, 0.85]\n",
            "[0.88, 0.93, 0.9]\n"
          ],
          "name": "stdout"
        },
        {
          "output_type": "display_data",
          "data": {
            "image/png": "[encoded data removed]",
            "text/plain": [
              "<Figure size 432x288 with 2 Axes>"
            ]
          },
          "metadata": {
            "tags": [],
            "needs_background": "light"
          }
        }
      ]
    },
    {
      "cell_type": "markdown",
      "metadata": {
        "id": "QFgg9npbTlKJ"
      },
      "source": [
        "В таком виде мы можем посмотреть на качество предсказания каждого класса, однако классов слишком много для общей визуализации таблицы. Но мы можем выводить конкретно те, что нам нужны и таким образом отследить, в каком классе качество оказалось наиболее низким."
      ]
    },
    {
      "cell_type": "markdown",
      "metadata": {
        "id": "PUAnlsAgO3VC"
      },
      "source": [
        "## **Random Forest Classifier**"
      ]
    },
    {
      "cell_type": "markdown",
      "metadata": {
        "id": "11yrAzOkT4Jl"
      },
      "source": [
        "Попробуем также обучить рандомный лес, хотя он более неустойчив к дисбалансу классов."
      ]
    },
    {
      "cell_type": "code",
      "metadata": {
        "id": "pK4g7z_jJJyn"
      },
      "source": [
        "from sklearn.ensemble import RandomForestClassifier"
      ],
      "execution_count": 110,
      "outputs": []
    },
    {
      "cell_type": "code",
      "metadata": {
        "colab": {
          "base_uri": "https://localhost:8080/"
        },
        "id": "jG8cQl2mJf5a",
        "outputId": "7bfba9c4-aecd-4036-a7d7-e2b2769383dd"
      },
      "source": [
        "fore = RandomForestClassifier(n_estimators=300, max_depth=50)\n",
        "fore.fit(tr_st, y_train)\n",
        "f1_score(y_test, fore.predict(ts_st), average='macro')"
      ],
      "execution_count": 120,
      "outputs": [
        {
          "output_type": "execute_result",
          "data": {
            "text/plain": [
              "0.8821842739545784"
            ]
          },
          "metadata": {
            "tags": []
          },
          "execution_count": 120
        }
      ]
    },
    {
      "cell_type": "markdown",
      "metadata": {
        "id": "xTDvxV42UBXw"
      },
      "source": [
        "Благодаря подбору гиперпараметров через GridSearch, лучшее качество, которое нам удалось достичь, все же ниже, чем обычная логистическая регрессия, однако разница не такая большая."
      ]
    },
    {
      "cell_type": "code",
      "metadata": {
        "id": "25wR14kuKbru"
      },
      "source": [
        "from sklearn.model_selection import GridSearchCV"
      ],
      "execution_count": 121,
      "outputs": []
    },
    {
      "cell_type": "code",
      "metadata": {
        "id": "UgjiqSBOKeVF"
      },
      "source": [
        "%%time\n",
        "parameters = {'n_estimators': [200, 300, 500], 'max_depth': [30, 40, 50], 'min_samples_leaf': [1, 2, 3, 5]}\n",
        "cv = GridSearchCV(fore, parameters)\n",
        "cv.fit(tr_vect, y_train)"
      ],
      "execution_count": null,
      "outputs": []
    },
    {
      "cell_type": "markdown",
      "metadata": {
        "id": "3NFOoGktVO99"
      },
      "source": [
        "## **Наивный байесовский классификатор**"
      ]
    },
    {
      "cell_type": "markdown",
      "metadata": {
        "id": "G0GgnzppVUKC"
      },
      "source": [
        "Классификатор показывает худшее качество, чем предыдущие модели."
      ]
    },
    {
      "cell_type": "code",
      "metadata": {
        "id": "oPMJzfzVhCka"
      },
      "source": [
        "from sklearn.naive_bayes import MultinomialNB\n",
        "\n",
        "model_naive = MultinomialNB().fit(tr_vect, y_train) \n",
        "predicted_naive = model_naive.predict(ts_vect)"
      ],
      "execution_count": 107,
      "outputs": []
    },
    {
      "cell_type": "code",
      "metadata": {
        "colab": {
          "base_uri": "https://localhost:8080/"
        },
        "id": "WUh-Qabbi6q3",
        "outputId": "1604d9b4-de88-4833-c25f-d2e6025c2f8a"
      },
      "source": [
        "precision_recall_fscore_support(y_test, predicted_naive, average='macro')"
      ],
      "execution_count": 110,
      "outputs": [
        {
          "output_type": "stream",
          "text": [
            "/usr/local/lib/python3.7/dist-packages/sklearn/metrics/_classification.py:1272: UndefinedMetricWarning: Precision and F-score are ill-defined and being set to 0.0 in labels with no predicted samples. Use `zero_division` parameter to control this behavior.\n",
            "  _warn_prf(average, modifier, msg_start, len(result))\n"
          ],
          "name": "stderr"
        },
        {
          "output_type": "execute_result",
          "data": {
            "text/plain": [
              "(0.816070560946902, 0.7883116883116883, 0.7737913019349892, None)"
            ]
          },
          "metadata": {
            "tags": []
          },
          "execution_count": 110
        }
      ]
    },
    {
      "cell_type": "markdown",
      "metadata": {
        "id": "MNlHT_QY4gsZ"
      },
      "source": [
        "## **BERT**"
      ]
    },
    {
      "cell_type": "markdown",
      "metadata": {
        "id": "xT5zEmVn4MHP"
      },
      "source": [
        "Теперь попробуем воспользоваться более сложными моделями, а именно применить трансформеры и посмотреть, улучшится ли качество предсказания. Мы модифицировали бейзлайн с Kaggle под нашу задачу."
      ]
    },
    {
      "cell_type": "code",
      "metadata": {
        "colab": {
          "base_uri": "https://localhost:8080/"
        },
        "id": "RZNxyxTSk6BG",
        "outputId": "7c31345b-f1da-4b27-9fd8-dd80a5b01bde"
      },
      "source": [
        "!pip install pytorch-transformers"
      ],
      "execution_count": 88,
      "outputs": [
        {
          "output_type": "stream",
          "text": [
            "Collecting pytorch-transformers\n",
            "\u001b[?25l  Downloading https://files.pythonhosted.org/packages/a3/b7/d3d18008a67e0b968d1ab93ad444fc05699403fa662f634b2f2c318a508b/pytorch_transformers-1.2.0-py3-none-any.whl (176kB)\n",
            "\r\u001b[K     |█▉                              | 10kB 16.0MB/s eta 0:00:01\r\u001b[K     |███▊                            | 20kB 21.0MB/s eta 0:00:01\r\u001b[K     |█████▋                          | 30kB 11.5MB/s eta 0:00:01\r\u001b[K     |███████▍                        | 40kB 9.6MB/s eta 0:00:01\r\u001b[K     |█████████▎                      | 51kB 8.8MB/s eta 0:00:01\r\u001b[K     |███████████▏                    | 61kB 8.9MB/s eta 0:00:01\r\u001b[K     |█████████████                   | 71kB 8.8MB/s eta 0:00:01\r\u001b[K     |██████████████▉                 | 81kB 9.0MB/s eta 0:00:01\r\u001b[K     |████████████████▊               | 92kB 9.4MB/s eta 0:00:01\r\u001b[K     |██████████████████▋             | 102kB 8.4MB/s eta 0:00:01\r\u001b[K     |████████████████████▍           | 112kB 8.4MB/s eta 0:00:01\r\u001b[K     |██████████████████████▎         | 122kB 8.4MB/s eta 0:00:01\r\u001b[K     |████████████████████████▏       | 133kB 8.4MB/s eta 0:00:01\r\u001b[K     |██████████████████████████      | 143kB 8.4MB/s eta 0:00:01\r\u001b[K     |███████████████████████████▉    | 153kB 8.4MB/s eta 0:00:01\r\u001b[K     |█████████████████████████████▊  | 163kB 8.4MB/s eta 0:00:01\r\u001b[K     |███████████████████████████████▋| 174kB 8.4MB/s eta 0:00:01\r\u001b[K     |████████████████████████████████| 184kB 8.4MB/s \n",
            "\u001b[?25hRequirement already satisfied: requests in /usr/local/lib/python3.7/dist-packages (from pytorch-transformers) (2.23.0)\n",
            "Requirement already satisfied: tqdm in /usr/local/lib/python3.7/dist-packages (from pytorch-transformers) (4.41.1)\n",
            "Requirement already satisfied: torch>=1.0.0 in /usr/local/lib/python3.7/dist-packages (from pytorch-transformers) (1.8.1+cu101)\n",
            "Requirement already satisfied: regex in /usr/local/lib/python3.7/dist-packages (from pytorch-transformers) (2019.12.20)\n",
            "Requirement already satisfied: numpy in /usr/local/lib/python3.7/dist-packages (from pytorch-transformers) (1.19.5)\n",
            "Collecting sacremoses\n",
            "\u001b[?25l  Downloading https://files.pythonhosted.org/packages/75/ee/67241dc87f266093c533a2d4d3d69438e57d7a90abb216fa076e7d475d4a/sacremoses-0.0.45-py3-none-any.whl (895kB)\n",
            "\u001b[K     |████████████████████████████████| 901kB 15.7MB/s \n",
            "\u001b[?25hCollecting boto3\n",
            "\u001b[?25l  Downloading https://files.pythonhosted.org/packages/11/2d/804332ee1eaf36c8be737e9c44da2f2aa449339c220a96b9a15ae7f61443/boto3-1.17.69-py2.py3-none-any.whl (131kB)\n",
            "\u001b[K     |████████████████████████████████| 133kB 26.6MB/s \n",
            "\u001b[?25hCollecting sentencepiece\n",
            "\u001b[?25l  Downloading https://files.pythonhosted.org/packages/f5/99/e0808cb947ba10f575839c43e8fafc9cc44e4a7a2c8f79c60db48220a577/sentencepiece-0.1.95-cp37-cp37m-manylinux2014_x86_64.whl (1.2MB)\n",
            "\u001b[K     |████████████████████████████████| 1.2MB 22.2MB/s \n",
            "\u001b[?25hRequirement already satisfied: urllib3!=1.25.0,!=1.25.1,<1.26,>=1.21.1 in /usr/local/lib/python3.7/dist-packages (from requests->pytorch-transformers) (1.24.3)\n",
            "Requirement already satisfied: idna<3,>=2.5 in /usr/local/lib/python3.7/dist-packages (from requests->pytorch-transformers) (2.10)\n",
            "Requirement already satisfied: certifi>=2017.4.17 in /usr/local/lib/python3.7/dist-packages (from requests->pytorch-transformers) (2020.12.5)\n",
            "Requirement already satisfied: chardet<4,>=3.0.2 in /usr/local/lib/python3.7/dist-packages (from requests->pytorch-transformers) (3.0.4)\n",
            "Requirement already satisfied: typing-extensions in /usr/local/lib/python3.7/dist-packages (from torch>=1.0.0->pytorch-transformers) (3.7.4.3)\n",
            "Requirement already satisfied: click in /usr/local/lib/python3.7/dist-packages (from sacremoses->pytorch-transformers) (7.1.2)\n",
            "Requirement already satisfied: six in /usr/local/lib/python3.7/dist-packages (from sacremoses->pytorch-transformers) (1.15.0)\n",
            "Requirement already satisfied: joblib in /usr/local/lib/python3.7/dist-packages (from sacremoses->pytorch-transformers) (1.0.1)\n",
            "Collecting s3transfer<0.5.0,>=0.4.0\n",
            "\u001b[?25l  Downloading https://files.pythonhosted.org/packages/63/d0/693477c688348654ddc21dcdce0817653a294aa43f41771084c25e7ff9c7/s3transfer-0.4.2-py2.py3-none-any.whl (79kB)\n",
            "\u001b[K     |████████████████████████████████| 81kB 9.9MB/s \n",
            "\u001b[?25hCollecting jmespath<1.0.0,>=0.7.1\n",
            "  Downloading https://files.pythonhosted.org/packages/07/cb/5f001272b6faeb23c1c9e0acc04d48eaaf5c862c17709d20e3469c6e0139/jmespath-0.10.0-py2.py3-none-any.whl\n",
            "Collecting botocore<1.21.0,>=1.20.69\n",
            "\u001b[?25l  Downloading https://files.pythonhosted.org/packages/10/bb/06710dce8770adf852785785df7e15fc1363596b712766898b1c529e358e/botocore-1.20.69-py2.py3-none-any.whl (7.5MB)\n",
            "\u001b[K     |████████████████████████████████| 7.5MB 42.3MB/s \n",
            "\u001b[?25hRequirement already satisfied: python-dateutil<3.0.0,>=2.1 in /usr/local/lib/python3.7/dist-packages (from botocore<1.21.0,>=1.20.69->boto3->pytorch-transformers) (2.8.1)\n",
            "\u001b[31mERROR: botocore 1.20.69 has requirement urllib3<1.27,>=1.25.4, but you'll have urllib3 1.24.3 which is incompatible.\u001b[0m\n",
            "Installing collected packages: sacremoses, jmespath, botocore, s3transfer, boto3, sentencepiece, pytorch-transformers\n",
            "Successfully installed boto3-1.17.69 botocore-1.20.69 jmespath-0.10.0 pytorch-transformers-1.2.0 s3transfer-0.4.2 sacremoses-0.0.45 sentencepiece-0.1.95\n"
          ],
          "name": "stdout"
        }
      ]
    },
    {
      "cell_type": "code",
      "metadata": {
        "id": "_YGtCDdapSvx"
      },
      "source": [
        "import random\n",
        "import numpy as np\n",
        "import os\n",
        "import torch\n",
        "import torch.nn as nn\n",
        "from pytorch_transformers import BertModel, BertTokenizer, BertConfig, WarmupLinearSchedule\n",
        "import re\n",
        "from torch.utils.data import Dataset\n",
        "from torch.utils.data import DataLoader, SubsetRandomSampler\n",
        "from tqdm import tqdm, trange\n",
        "\n",
        "def seed_everything(seed = 42):\n",
        "    random.seed(seed)\n",
        "    os.environ['PYTHONHASHSEED'] = str(seed)\n",
        "    np.random.seed(seed)\n",
        "    torch.manual_seed(seed)\n",
        "    torch.cuda.manual_seed(seed)\n",
        "    torch.backends.cudnn.deterministic = True\n",
        "\n",
        "seed_everything()"
      ],
      "execution_count": 89,
      "outputs": []
    },
    {
      "cell_type": "code",
      "metadata": {
        "colab": {
          "base_uri": "https://localhost:8080/"
        },
        "id": "rzZaOinjpYG6",
        "outputId": "25142e51-9e84-4107-c82e-bb6debddcb30"
      },
      "source": [
        "SEP_TOKEN = '[SEP]'\n",
        "CLS_TOKEN = '[CLS]'\n",
        "TRAIN_FILE_PATH = '/content/task-specific-datasets-master/banking_data/train.csv'\n",
        "MAX_SEQ_LENGTH = 450\n",
        "BATCH_SIZE = 4\n",
        "NUM_EPOCHS = 10\n",
        "GRADIENT_ACCUMULATION_STEPS = 8\n",
        "WARMUP_STEPS = 3\n",
        "DEVICE = torch.device(\"cuda:0\" if torch.cuda.is_available() else \"cpu\")\n",
        "print(DEVICE)"
      ],
      "execution_count": 120,
      "outputs": [
        {
          "output_type": "stream",
          "text": [
            "cuda:0\n"
          ],
          "name": "stdout"
        }
      ]
    },
    {
      "cell_type": "code",
      "metadata": {
        "id": "GMIcHAZupe5s"
      },
      "source": [
        "class BertClassifier(nn.Module):\n",
        "\n",
        "    def __init__(self, config):\n",
        "        super(BertClassifier, self).__init__()\n",
        "        \n",
        "        self.num_labels = config.num_labels\n",
        "        \n",
        "        self.bert = BertModel(config)\n",
        "        \n",
        "        self.dropout = nn.Dropout(config.hidden_dropout_prob)\n",
        "        \n",
        "        self.classifier = nn.Linear(config.hidden_size, config.num_labels)\n",
        "        \n",
        "        torch.nn.init.xavier_normal_(self.classifier.weight)\n",
        "\n",
        "    def forward(self, input_ids, token_type_ids=None, attention_mask=None,\n",
        "                position_ids=None, head_mask=None):\n",
        "        \n",
        "        outputs = self.bert(input_ids, position_ids=position_ids, token_type_ids=token_type_ids,\n",
        "                            attention_mask=attention_mask, head_mask=head_mask)\n",
        "        \n",
        "        \n",
        "        pooled_output = outputs[-1]\n",
        "\n",
        "        pooled_output = self.dropout(pooled_output)\n",
        "        return self.classifier(pooled_output)"
      ],
      "execution_count": 121,
      "outputs": []
    },
    {
      "cell_type": "code",
      "metadata": {
        "id": "DzeCu6KlqKf0"
      },
      "source": [
        "class SequenceDataset(Dataset):\n",
        "    def __init__(self, dataset_file_path, tokenizer, regex_transformations={}):\n",
        "        \n",
        "\n",
        "        df = pd.read_csv(dataset_file_path)\n",
        "        self.headlines = df.values\n",
        "        self.regex_transformations = regex_transformations\n",
        "        self.tokenizer = tokenizer\n",
        "\n",
        "    def __len__(self):\n",
        "        return len(self.headlines)\n",
        "\n",
        "    def __getitem__(self, index):\n",
        "        headline, label = self.headlines[index][0], cats.index(self.headlines[index][1])\n",
        "        for regex, value_to_replace_with in self.regex_transformations.items():\n",
        "            headline = re.sub(regex, value_to_replace_with, headline)\n",
        "        tokens = self.tokenizer.tokenize(headline)\n",
        "\n",
        "        tokens = [CLS_TOKEN] + tokens + [SEP_TOKEN]\n",
        "\n",
        "        input_ids = self.tokenizer.convert_tokens_to_ids(tokens)\n",
        "\n",
        "        segment_ids = [0] * len(input_ids)\n",
        "\n",
        "        input_mask = [1] * len(input_ids)\n",
        "\n",
        "        padding_length = MAX_SEQ_LENGTH - len(input_ids)\n",
        "        input_ids = input_ids + [0] * padding_length\n",
        "        input_mask = input_mask + [0] * padding_length\n",
        "        segment_ids = segment_ids + [0] * padding_length\n",
        "\n",
        "        assert len(input_ids) == MAX_SEQ_LENGTH\n",
        "        assert len(input_mask) == MAX_SEQ_LENGTH\n",
        "        assert len(segment_ids) == MAX_SEQ_LENGTH\n",
        "\n",
        "        return torch.tensor(input_ids, dtype=torch.long, device=DEVICE), \\\n",
        "               torch.tensor(segment_ids, dtype=torch.long, device=DEVICE), \\\n",
        "               torch.tensor(input_mask, device=DEVICE), \\\n",
        "               torch.tensor(label, dtype=torch.long, device=DEVICE)"
      ],
      "execution_count": 122,
      "outputs": []
    },
    {
      "cell_type": "code",
      "metadata": {
        "id": "XgHcVKferXjK",
        "colab": {
          "base_uri": "https://localhost:8080/"
        },
        "outputId": "5410aaaa-6a70-4282-a18e-8678ce592b18"
      },
      "source": [
        "config = BertConfig(hidden_size=384,\n",
        "                    num_hidden_layers=12,\n",
        "                    num_attention_heads=12,\n",
        "                    intermediate_size=3072,\n",
        "                    num_labels=len(cats))\n",
        "\n",
        "model = BertClassifier(config)\n",
        "model.to(DEVICE)\n",
        "\n",
        "tokenizer = BertTokenizer.from_pretrained('bert-base-uncased')"
      ],
      "execution_count": 123,
      "outputs": [
        {
          "output_type": "stream",
          "text": [
            "100%|██████████| 231508/231508 [00:00<00:00, 1191150.21B/s]\n"
          ],
          "name": "stderr"
        }
      ]
    },
    {
      "cell_type": "code",
      "metadata": {
        "colab": {
          "base_uri": "https://localhost:8080/"
        },
        "id": "_mV1gNSFrdMg",
        "outputId": "cc30b89a-0b4c-4ccb-e710-4a67cc1d707c"
      },
      "source": [
        "train_dataset = SequenceDataset(TRAIN_FILE_PATH, tokenizer)\n",
        "\n",
        "validation_split = 0.2\n",
        "dataset_size = len(train_dataset)\n",
        "indices = list(range(dataset_size))\n",
        "split = int(np.floor(validation_split * dataset_size))\n",
        "shuffle_dataset = True\n",
        "\n",
        "if shuffle_dataset :\n",
        "    np.random.shuffle(indices)\n",
        "train_indices, val_indices = indices[split:], indices[:split]\n",
        "\n",
        "train_sampler = SubsetRandomSampler(train_indices)\n",
        "validation_sampler = SubsetRandomSampler(val_indices)\n",
        "train_loader = torch.utils.data.DataLoader(train_dataset, batch_size=BATCH_SIZE, sampler=train_sampler)\n",
        "val_loader = torch.utils.data.DataLoader(train_dataset, batch_size=BATCH_SIZE, sampler=validation_sampler)\n",
        "\n",
        "print ('Training Set Size {}, Validation Set Size {}'.format(len(train_indices), len(val_indices))) # будет удобнее наблюдать за процессом обучения"
      ],
      "execution_count": 124,
      "outputs": [
        {
          "output_type": "stream",
          "text": [
            "Training Set Size 8003, Validation Set Size 2000\n"
          ],
          "name": "stdout"
        }
      ]
    },
    {
      "cell_type": "code",
      "metadata": {
        "id": "X0PyH6jW5IPj"
      },
      "source": [
        "criterion = nn.CrossEntropyLoss()\n",
        "\n",
        "optimizer = torch.optim.Adam([\n",
        "                {'params': model.bert.parameters(), 'lr' : 1e-5},\n",
        "                {'params': model.classifier.parameters(), 'lr': 3e-4}\n",
        "            ])\n",
        "\n",
        "\n",
        "scheduler = WarmupLinearSchedule(optimizer, warmup_steps=WARMUP_STEPS, t_total=len(train_loader) // GRADIENT_ACCUMULATION_STEPS * NUM_EPOCHS)\n",
        "\n",
        "model.zero_grad()\n",
        "epoch_iterator = trange(int(NUM_EPOCHS), desc=\"Epoch\")\n",
        "training_acc_list, validation_acc_list = [], []"
      ],
      "execution_count": null,
      "outputs": []
    },
    {
      "cell_type": "code",
      "metadata": {
        "colab": {
          "base_uri": "https://localhost:8080/",
          "height": 914
        },
        "id": "4XovBac-rm6N",
        "outputId": "55097abe-b744-474b-c46e-c1d2bfb71fad"
      },
      "source": [
        "for epoch in epoch_iterator:\n",
        "    epoch_loss = 0.0\n",
        "    train_correct_total = 0\n",
        "\n",
        "    train_iterator = tqdm(train_loader, desc=\"Train Iteration\")\n",
        "    for step, batch in enumerate(train_iterator):\n",
        "        model.train(True)\n",
        "\n",
        "        inputs = {\n",
        "            'input_ids': batch[0].to(DEVICE),\n",
        "            'token_type_ids': batch[1].to(DEVICE),\n",
        "            'attention_mask': batch[2].to(DEVICE)\n",
        "        }\n",
        "\n",
        "        labels = batch[3].to(DEVICE)\n",
        "        logits = model(**inputs)\n",
        "\n",
        "        loss = criterion(logits, labels) / GRADIENT_ACCUMULATION_STEPS\n",
        "        loss.backward()\n",
        "        epoch_loss += loss.item()\n",
        "\n",
        "        if (step + 1) % GRADIENT_ACCUMULATION_STEPS == 0:\n",
        "            scheduler.step()\n",
        "            optimizer.step()\n",
        "            model.zero_grad()\n",
        "\n",
        "        _, predicted = torch.max(logits.data, 1)\n",
        "        correct_reviews_in_batch = (predicted == labels).sum().item()\n",
        "        train_correct_total += correct_reviews_in_batch\n",
        "    \n",
        "    print('Epoch {} - Loss {:.2f}'.format(epoch + 1, epoch_loss / len(train_indices)))\n",
        "\n",
        "    with torch.no_grad():\n",
        "        val_correct_total = 0\n",
        "        model.train(False)\n",
        "        val_iterator = tqdm(val_loader, desc=\"Validation Iteration\")\n",
        "        for step, batch in enumerate(val_iterator):\n",
        "            inputs = {\n",
        "                'input_ids': batch[0].to(DEVICE),\n",
        "                'token_type_ids': batch[1].to(DEVICE),\n",
        "                'attention_mask': batch[2].to(DEVICE)\n",
        "            }\n",
        "\n",
        "            labels = batch[3].to(DEVICE)\n",
        "            logits = model(**inputs)\n",
        "\n",
        "            _, predicted = torch.max(logits.data, 1)\n",
        "            correct_reviews_in_batch = (predicted == labels).sum().item()\n",
        "            val_correct_total += correct_reviews_in_batch\n",
        "\n",
        "        training_acc_list.append(train_correct_total * 100 / len(train_indices))\n",
        "        validation_acc_list.append(val_correct_total * 100 / len(val_indices))\n",
        "        print('Training Accuracy {:.4f} - Validation Accurracy {:.4f}'.format(train_correct_total * 100 / len(train_indices), val_correct_total * 100 / len(val_indices)))        "
      ],
      "execution_count": 126,
      "outputs": [
        {
          "output_type": "stream",
          "text": [
            "Train Iteration: 100%|██████████| 2001/2001 [07:33<00:00,  4.41it/s]\n",
            "Validation Iteration:   0%|          | 2/500 [00:00<00:40, 12.44it/s]"
          ],
          "name": "stderr"
        },
        {
          "output_type": "stream",
          "text": [
            "Epoch 1 - Loss 0.03\n"
          ],
          "name": "stdout"
        },
        {
          "output_type": "stream",
          "text": [
            "Validation Iteration: 100%|██████████| 500/500 [00:41<00:00, 11.98it/s]\n",
            "Train Iteration:   0%|          | 0/2001 [00:00<?, ?it/s]"
          ],
          "name": "stderr"
        },
        {
          "output_type": "stream",
          "text": [
            "Training Accuracy 75.1593 - Validation Accurracy 76.6500\n"
          ],
          "name": "stdout"
        },
        {
          "output_type": "stream",
          "text": [
            "Train Iteration: 100%|██████████| 2001/2001 [07:32<00:00,  4.42it/s]\n",
            "Validation Iteration:   0%|          | 2/500 [00:00<00:39, 12.51it/s]"
          ],
          "name": "stderr"
        },
        {
          "output_type": "stream",
          "text": [
            "Epoch 2 - Loss 0.03\n"
          ],
          "name": "stdout"
        },
        {
          "output_type": "stream",
          "text": [
            "Validation Iteration: 100%|██████████| 500/500 [00:41<00:00, 12.02it/s]\n",
            "Train Iteration:   0%|          | 0/2001 [00:00<?, ?it/s]"
          ],
          "name": "stderr"
        },
        {
          "output_type": "stream",
          "text": [
            "Training Accuracy 75.7591 - Validation Accurracy 76.6500\n"
          ],
          "name": "stdout"
        },
        {
          "output_type": "stream",
          "text": [
            "Train Iteration: 100%|██████████| 2001/2001 [07:32<00:00,  4.42it/s]\n",
            "Validation Iteration:   0%|          | 2/500 [00:00<00:39, 12.50it/s]"
          ],
          "name": "stderr"
        },
        {
          "output_type": "stream",
          "text": [
            "Epoch 3 - Loss 0.03\n"
          ],
          "name": "stdout"
        },
        {
          "output_type": "stream",
          "text": [
            "Validation Iteration: 100%|██████████| 500/500 [00:41<00:00, 12.01it/s]\n",
            "Train Iteration:   0%|          | 0/2001 [00:00<?, ?it/s]"
          ],
          "name": "stderr"
        },
        {
          "output_type": "stream",
          "text": [
            "Training Accuracy 75.4092 - Validation Accurracy 76.6500\n"
          ],
          "name": "stdout"
        },
        {
          "output_type": "stream",
          "text": [
            "Train Iteration: 100%|██████████| 2001/2001 [07:32<00:00,  4.42it/s]\n",
            "Validation Iteration:   0%|          | 2/500 [00:00<00:39, 12.57it/s]"
          ],
          "name": "stderr"
        },
        {
          "output_type": "stream",
          "text": [
            "Epoch 4 - Loss 0.03\n"
          ],
          "name": "stdout"
        },
        {
          "output_type": "stream",
          "text": [
            "Validation Iteration: 100%|██████████| 500/500 [00:41<00:00, 12.02it/s]\n",
            "Train Iteration:   0%|          | 0/2001 [00:00<?, ?it/s]"
          ],
          "name": "stderr"
        },
        {
          "output_type": "stream",
          "text": [
            "Training Accuracy 75.3842 - Validation Accurracy 76.6500\n"
          ],
          "name": "stdout"
        },
        {
          "output_type": "stream",
          "text": [
            "Train Iteration: 100%|██████████| 2001/2001 [07:32<00:00,  4.42it/s]\n",
            "Validation Iteration:   0%|          | 2/500 [00:00<00:39, 12.64it/s]"
          ],
          "name": "stderr"
        },
        {
          "output_type": "stream",
          "text": [
            "Epoch 5 - Loss 0.03\n"
          ],
          "name": "stdout"
        },
        {
          "output_type": "stream",
          "text": [
            "Validation Iteration: 100%|██████████| 500/500 [00:41<00:00, 12.01it/s]\n",
            "Train Iteration:   0%|          | 0/2001 [00:00<?, ?it/s]"
          ],
          "name": "stderr"
        },
        {
          "output_type": "stream",
          "text": [
            "Training Accuracy 75.8091 - Validation Accurracy 76.6500\n"
          ],
          "name": "stdout"
        },
        {
          "output_type": "stream",
          "text": [
            "Train Iteration: 100%|██████████| 2001/2001 [07:32<00:00,  4.42it/s]\n",
            "Validation Iteration:   0%|          | 2/500 [00:00<00:39, 12.47it/s]"
          ],
          "name": "stderr"
        },
        {
          "output_type": "stream",
          "text": [
            "Epoch 6 - Loss 0.03\n"
          ],
          "name": "stdout"
        },
        {
          "output_type": "stream",
          "text": [
            "Validation Iteration: 100%|██████████| 500/500 [00:41<00:00, 12.02it/s]\n",
            "Train Iteration:   0%|          | 0/2001 [00:00<?, ?it/s]"
          ],
          "name": "stderr"
        },
        {
          "output_type": "stream",
          "text": [
            "Training Accuracy 75.6591 - Validation Accurracy 76.6500\n"
          ],
          "name": "stdout"
        },
        {
          "output_type": "stream",
          "text": [
            "Train Iteration: 100%|██████████| 2001/2001 [07:32<00:00,  4.42it/s]\n",
            "Validation Iteration:   0%|          | 2/500 [00:00<00:39, 12.57it/s]"
          ],
          "name": "stderr"
        },
        {
          "output_type": "stream",
          "text": [
            "Epoch 7 - Loss 0.03\n"
          ],
          "name": "stdout"
        },
        {
          "output_type": "stream",
          "text": [
            "Validation Iteration: 100%|██████████| 500/500 [00:41<00:00, 12.00it/s]\n",
            "Train Iteration:   0%|          | 0/2001 [00:00<?, ?it/s]"
          ],
          "name": "stderr"
        },
        {
          "output_type": "stream",
          "text": [
            "Training Accuracy 75.8091 - Validation Accurracy 76.6500\n"
          ],
          "name": "stdout"
        },
        {
          "output_type": "stream",
          "text": [
            "Train Iteration:  21%|██        | 415/2001 [01:34<05:56,  4.45it/s]"
          ],
          "name": "stderr"
        },
        {
          "output_type": "error",
          "ename": "KeyboardInterrupt",
          "evalue": "ignored",
          "traceback": [
            "\u001b[0;31m---------------------------------------------------------------------------\u001b[0m",
            "\u001b[0;31mKeyboardInterrupt\u001b[0m                         Traceback (most recent call last)",
            "\u001b[0;32m<ipython-input-126-c0c506512b4a>\u001b[0m in \u001b[0;36m<module>\u001b[0;34m()\u001b[0m\n\u001b[1;32m     18\u001b[0m \u001b[0;34m\u001b[0m\u001b[0m\n\u001b[1;32m     19\u001b[0m         \u001b[0mloss\u001b[0m \u001b[0;34m=\u001b[0m \u001b[0mcriterion\u001b[0m\u001b[0;34m(\u001b[0m\u001b[0mlogits\u001b[0m\u001b[0;34m,\u001b[0m \u001b[0mlabels\u001b[0m\u001b[0;34m)\u001b[0m \u001b[0;34m/\u001b[0m \u001b[0mGRADIENT_ACCUMULATION_STEPS\u001b[0m\u001b[0;34m\u001b[0m\u001b[0;34m\u001b[0m\u001b[0m\n\u001b[0;32m---> 20\u001b[0;31m         \u001b[0mloss\u001b[0m\u001b[0;34m.\u001b[0m\u001b[0mbackward\u001b[0m\u001b[0;34m(\u001b[0m\u001b[0;34m)\u001b[0m\u001b[0;34m\u001b[0m\u001b[0;34m\u001b[0m\u001b[0m\n\u001b[0m\u001b[1;32m     21\u001b[0m         \u001b[0mepoch_loss\u001b[0m \u001b[0;34m+=\u001b[0m \u001b[0mloss\u001b[0m\u001b[0;34m.\u001b[0m\u001b[0mitem\u001b[0m\u001b[0;34m(\u001b[0m\u001b[0;34m)\u001b[0m\u001b[0;34m\u001b[0m\u001b[0;34m\u001b[0m\u001b[0m\n\u001b[1;32m     22\u001b[0m \u001b[0;34m\u001b[0m\u001b[0m\n",
            "\u001b[0;32m/usr/local/lib/python3.7/dist-packages/torch/tensor.py\u001b[0m in \u001b[0;36mbackward\u001b[0;34m(self, gradient, retain_graph, create_graph, inputs)\u001b[0m\n\u001b[1;32m    243\u001b[0m                 \u001b[0mcreate_graph\u001b[0m\u001b[0;34m=\u001b[0m\u001b[0mcreate_graph\u001b[0m\u001b[0;34m,\u001b[0m\u001b[0;34m\u001b[0m\u001b[0;34m\u001b[0m\u001b[0m\n\u001b[1;32m    244\u001b[0m                 inputs=inputs)\n\u001b[0;32m--> 245\u001b[0;31m         \u001b[0mtorch\u001b[0m\u001b[0;34m.\u001b[0m\u001b[0mautograd\u001b[0m\u001b[0;34m.\u001b[0m\u001b[0mbackward\u001b[0m\u001b[0;34m(\u001b[0m\u001b[0mself\u001b[0m\u001b[0;34m,\u001b[0m \u001b[0mgradient\u001b[0m\u001b[0;34m,\u001b[0m \u001b[0mretain_graph\u001b[0m\u001b[0;34m,\u001b[0m \u001b[0mcreate_graph\u001b[0m\u001b[0;34m,\u001b[0m \u001b[0minputs\u001b[0m\u001b[0;34m=\u001b[0m\u001b[0minputs\u001b[0m\u001b[0;34m)\u001b[0m\u001b[0;34m\u001b[0m\u001b[0;34m\u001b[0m\u001b[0m\n\u001b[0m\u001b[1;32m    246\u001b[0m \u001b[0;34m\u001b[0m\u001b[0m\n\u001b[1;32m    247\u001b[0m     \u001b[0;32mdef\u001b[0m \u001b[0mregister_hook\u001b[0m\u001b[0;34m(\u001b[0m\u001b[0mself\u001b[0m\u001b[0;34m,\u001b[0m \u001b[0mhook\u001b[0m\u001b[0;34m)\u001b[0m\u001b[0;34m:\u001b[0m\u001b[0;34m\u001b[0m\u001b[0;34m\u001b[0m\u001b[0m\n",
            "\u001b[0;32m/usr/local/lib/python3.7/dist-packages/torch/autograd/__init__.py\u001b[0m in \u001b[0;36mbackward\u001b[0;34m(tensors, grad_tensors, retain_graph, create_graph, grad_variables, inputs)\u001b[0m\n\u001b[1;32m    145\u001b[0m     Variable._execution_engine.run_backward(\n\u001b[1;32m    146\u001b[0m         \u001b[0mtensors\u001b[0m\u001b[0;34m,\u001b[0m \u001b[0mgrad_tensors_\u001b[0m\u001b[0;34m,\u001b[0m \u001b[0mretain_graph\u001b[0m\u001b[0;34m,\u001b[0m \u001b[0mcreate_graph\u001b[0m\u001b[0;34m,\u001b[0m \u001b[0minputs\u001b[0m\u001b[0;34m,\u001b[0m\u001b[0;34m\u001b[0m\u001b[0;34m\u001b[0m\u001b[0m\n\u001b[0;32m--> 147\u001b[0;31m         allow_unreachable=True, accumulate_grad=True)  # allow_unreachable flag\n\u001b[0m\u001b[1;32m    148\u001b[0m \u001b[0;34m\u001b[0m\u001b[0m\n\u001b[1;32m    149\u001b[0m \u001b[0;34m\u001b[0m\u001b[0m\n",
            "\u001b[0;31mKeyboardInterrupt\u001b[0m: "
          ]
        }
      ]
    },
    {
      "cell_type": "code",
      "metadata": {
        "colab": {
          "base_uri": "https://localhost:8080/"
        },
        "id": "KgLNn-q5T5mh",
        "outputId": "3e3080d6-4874-435f-aad4-4e4c86f4276c"
      },
      "source": [
        "from sklearn.metrics import precision_recall_fscore_support\n",
        "precision_recall_fscore_support(real, pred, average='micro')"
      ],
      "execution_count": 60,
      "outputs": [
        {
          "output_type": "execute_result",
          "data": {
            "text/plain": [
              "(0.7185064935064935, 0.7185064935064935, 0.7185064935064934, None)"
            ]
          },
          "metadata": {
            "tags": []
          },
          "execution_count": 60
        }
      ]
    },
    {
      "cell_type": "markdown",
      "metadata": {
        "id": "dyi-1OaaVoYA"
      },
      "source": [
        "Трансформеры на данном этапе показывают худшее качество классификации, однако, улучшив их и увеличив количество эпох (изменив и другие гиперпараметры), возможно забустить модель на качество выше 0.9."
      ]
    },
    {
      "cell_type": "markdown",
      "metadata": {
        "id": "26VVD8916WB4"
      },
      "source": [
        "# **Реализация Self-adjusting Dice Loss**"
      ]
    },
    {
      "cell_type": "code",
      "metadata": {
        "id": "wvxBzINIrw76"
      },
      "source": [
        "class SelfAdjDiceLoss(torch.nn.Module):\n",
        "\n",
        "    def __init__(self, gamma=1.0, reduction=\"mean\"):\n",
        "        \n",
        "        super().__init__()\n",
        "        self.gamma = gamma\n",
        "        self.reduction = reduction\n",
        "\n",
        "    def forward(self, preds, targets) -> torch.Tensor:\n",
        "\n",
        "        probs = torch.gather(torch.softmax(preds, dim=1), dim=1, index=targets.unsqueeze(1))\n",
        "        \n",
        "        loss = 1 - (2 * (1 - probs) * probs + self.gamma) / ((1 - probs) * probs + 1 + self.gamma)\n",
        "\n",
        "        if self.reduction == \"mean\":\n",
        "            return loss.mean()\n",
        "        elif self.reduction == \"none\":\n",
        "            return loss"
      ],
      "execution_count": 61,
      "outputs": []
    },
    {
      "cell_type": "markdown",
      "metadata": {
        "id": "rv4TNvalWQtu"
      },
      "source": [
        "Данная функция потерь как раз учитывает дисбаланс классов и по сути обучает не на accuracy, а на f1-меру."
      ]
    },
    {
      "cell_type": "markdown",
      "metadata": {
        "id": "CqP9gEtYatYg"
      },
      "source": [
        "# **Сэмплирование батчей в несбалансированных выборках**"
      ]
    },
    {
      "cell_type": "markdown",
      "metadata": {
        "id": "XR7eyhA2bE-c"
      },
      "source": [
        "В задачах текстовой классификации используются несколько способов бороться с дисбалансом в данных, и часть из них основана на механизмах сэмплирования."
      ]
    },
    {
      "cell_type": "markdown",
      "metadata": {
        "id": "jt2s4zrDbQk8"
      },
      "source": [
        "* Мы можем использовать **Random Oversampling**, суть которого заключается в том, что мы просто увеличиваем выборку путем копирования сэмплов из малочисленного класса (объекты из них выбираются рандомно). \n",
        "* **SMOTE** - создаются синтетические сэмплы при помощи kNN. \n",
        "* Другие реализации SMOTE, как **SMOTE-SVM**, **WEMOTE** и т. д."
      ]
    },
    {
      "cell_type": "markdown",
      "metadata": {
        "id": "fzrwaRT7hRvO"
      },
      "source": [
        "Реализуем SMOTE, который уже в экспериментах показал хорошие результаты (имплементация частично бралась с непопулярного гитхаба, но из комментариев все должно быть ясно). \n",
        "\n",
        "Статья: https://arxiv.org/pdf/1106.1813.pdf "
      ]
    },
    {
      "cell_type": "code",
      "metadata": {
        "id": "L_digci6crLp"
      },
      "source": [
        "class SMOTE(object):\n",
        "\n",
        "    def __init__(self, distance='euclidian', dims=512, k=5):\n",
        "        \n",
        "        super(SMOTE,self).__init__()\n",
        "        self.newindex = 0 \n",
        "        self.k = k\n",
        "        self.dims = dims\n",
        "        self.distance_measure = distance\n",
        "        \n",
        "    def populate(self, N, i, nnarray, min_samples, k):\n",
        "        \n",
        "        # собственно, создание синтетических сэмплов, исходя из полноты класса (N), конкретного объекта с индексом i из\n",
        "        # всех индексов объектов данного класса (nnarray), k ближайших соседей (может рассчитываться только исходя из общего кол-ва объектов)\n",
        "        # и собственно всех объектов классa min_samples\n",
        "        while N:\n",
        "            \n",
        "            nn = randint(0, k-2)\n",
        "            \n",
        "            diff = min_samples[nnarray[nn]] - min_samples[i]\n",
        "            gap = random.uniform(0,1)\n",
        "\n",
        "            self.synthetic_arr[self.newindex, :] = min_samples[i] + gap * diff\n",
        "            \n",
        "            self.newindex += 1\n",
        "            \n",
        "            N -= 1\n",
        "\n",
        "    def k_neighbors(self, euclid_distance, k):\n",
        "        \n",
        "        # вывод индексов ближайших соседей\n",
        "        nearest_idx = torch.zeros((euclid_distance.shape[0], euclid_distance.shape[0]), dtype = torch.int64)\n",
        "        idxs = torch.argsort(euclid_distance, dim=1)\n",
        "        nearest_idx[:, :] = idxs\n",
        "        \n",
        "        return nearest_idx[:, 1:k]\n",
        "    \n",
        "    def find_k(self, X, k):\n",
        "\n",
        "        euclid_distance = torch.zeros((X.shape[0], X.shape[0]), dtype = torch.float32)\n",
        "        # создаем матрицу расстояний между объектами, чтобы найти k ближайших соседей, опираясь на нее\n",
        "        for i in range(len(X)):\n",
        "            dif = (X - X[i])**2\n",
        "            dist = torch.sqrt(dif.sum(axis=1))\n",
        "            euclid_distance[i] = dist\n",
        "            \n",
        "        return self.k_neighbors(euclid_distance, k)\n",
        "    \n",
        "    def generate(self, min_samples, N, k):\n",
        "      # общий алгоритм генерации для одного класса\n",
        "\n",
        "        T = min_samples.shape[0]\n",
        "        self.synthetic_arr = torch.zeros(int(N / 100) * T, self.dims)\n",
        "        N = int(N / 100)\n",
        "        if self.distance_measure == 'euclidian':\n",
        "            indices = self.find_k(min_samples, k)\n",
        "        \n",
        "        for i in range(indices.shape[0]):\n",
        "            self.populate(N, i, indices[i], min_samples, k)\n",
        "        \n",
        "        self.newindex = 0 \n",
        "\n",
        "        return self.synthetic_arr\n",
        "            \n",
        "    def fit_generate(self, X, y):\n",
        "      # для всех классов, кроме доминирующего делаем сэмплирование по алгоритму на основе их полноты\n",
        "\n",
        "        occ = torch.eye(int(y.max() + 1), int(y.max() + 1))[y].sum(axis=0)\n",
        "\n",
        "        dominant_class = torch.argmax(occ)\n",
        "        n_occ = int(occ[dominant_class].item())\n",
        "\n",
        "        for cat in range(len(occ)):\n",
        "            if cat != dominant_class:\n",
        "                N = (n_occ - occ[cat]) * 100 / occ[cat]\n",
        "                candidates = X[train[train.label  == cat].index]\n",
        "                xs = self.generate(candidates, N, self.k)\n",
        "                X = torch.cat((X, xs))\n",
        "                ys = torch.ones(xs.shape[0]) * cat\n",
        "                y = torch.cat((y, ys))\n",
        "\n",
        "        return X, y"
      ],
      "execution_count": 170,
      "outputs": []
    },
    {
      "cell_type": "markdown",
      "metadata": {
        "id": "AZxa9Bi98dzx"
      },
      "source": [
        "# **Обертка классификатора в REST-сервис**"
      ]
    },
    {
      "cell_type": "code",
      "metadata": {
        "colab": {
          "base_uri": "https://localhost:8080/"
        },
        "id": "88T5qfXgjax5",
        "outputId": "63ed44d9-7def-4477-cc7c-b981afed700b"
      },
      "source": [
        "!pip install flask_restful"
      ],
      "execution_count": 176,
      "outputs": [
        {
          "output_type": "stream",
          "text": [
            "Requirement already satisfied: flask_restful in /usr/local/lib/python3.7/dist-packages (0.3.8)\n",
            "Requirement already satisfied: pytz in /usr/local/lib/python3.7/dist-packages (from flask_restful) (2018.9)\n",
            "Requirement already satisfied: aniso8601>=0.82 in /usr/local/lib/python3.7/dist-packages (from flask_restful) (9.0.1)\n",
            "Requirement already satisfied: Flask>=0.8 in /usr/local/lib/python3.7/dist-packages (from flask_restful) (1.1.2)\n",
            "Requirement already satisfied: six>=1.3.0 in /usr/local/lib/python3.7/dist-packages (from flask_restful) (1.15.0)\n",
            "Requirement already satisfied: Werkzeug>=0.15 in /usr/local/lib/python3.7/dist-packages (from Flask>=0.8->flask_restful) (1.0.1)\n",
            "Requirement already satisfied: Jinja2>=2.10.1 in /usr/local/lib/python3.7/dist-packages (from Flask>=0.8->flask_restful) (2.11.3)\n",
            "Requirement already satisfied: itsdangerous>=0.24 in /usr/local/lib/python3.7/dist-packages (from Flask>=0.8->flask_restful) (1.1.0)\n",
            "Requirement already satisfied: click>=5.1 in /usr/local/lib/python3.7/dist-packages (from Flask>=0.8->flask_restful) (7.1.2)\n",
            "Requirement already satisfied: MarkupSafe>=0.23 in /usr/local/lib/python3.7/dist-packages (from Jinja2>=2.10.1->Flask>=0.8->flask_restful) (1.1.1)\n"
          ],
          "name": "stdout"
        }
      ]
    },
    {
      "cell_type": "code",
      "metadata": {
        "id": "a6GL-jL58tXd"
      },
      "source": [
        "from flask import Flask\n",
        "from flask_restful import reqparse, abort, Api, Resource\n",
        "import joblib\n",
        "import nltk\n",
        "import string\n",
        "import numpy as np\n",
        "\n",
        "app = Flask(__name__)\n",
        "api = Api(app)\n",
        "\n",
        "classifier = joblib.load('/content/classifier.pkl')\n",
        "vectorizer = joblib.load('vectorizer.pkl')\n",
        "st = nltk.stem.SnowballStemmer('english')\n",
        "\n",
        "def stem_text(text):\n",
        "    return ' '.join([st.stem(word) for word in nltk.word_tokenize(text.lower()) if word not in list(string.punctuation)])\n",
        "\n",
        "\n",
        "class Classify(Resource):\n",
        "    \n",
        "    def post():\n",
        "\n",
        "        parser = reqparse.RequestParser()\n",
        "        parser.add_argument('text')\n",
        "\n",
        "        args = parser.parse_args()\n",
        "        text = args['text']\n",
        "\n",
        "        tf_idf = vectorizer.transform([stem_text(text)])\n",
        "\n",
        "        prediction = model.predict(tf_idf)\n",
        "\n",
        "        output = {'prediction': cats[int(prediction)]}\n",
        "        \n",
        "        return output\n",
        "\n",
        "\n",
        "api.add_resource(Classify, '/classify')\n",
        "\n",
        "if __name__ == '__main__':\n",
        "    app.run(debug=True, port='1080')"
      ],
      "execution_count": null,
      "outputs": []
    }
  ]
}